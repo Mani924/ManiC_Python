{
 "cells": [
  {
   "cell_type": "code",
   "execution_count": 1,
   "metadata": {
    "collapsed": false
   },
   "outputs": [
    {
     "name": "stdout",
     "output_type": "stream",
     "text": [
      "Enter Actual Stringpython program\n",
      "Enter Sub Stringpython\n",
      "Substring is in actual string\n"
     ]
    }
   ],
   "source": [
    "# 2. write a program to chek given substring is there in actual string or not? (search should be case insensitive)\n",
    "a=raw_input(\"Enter Actual String\")\n",
    "b=raw_input(\"Enter Sub String\")\n",
    "\n",
    "def string(a,b):\n",
    "    a.lower()\n",
    "    b.lower()\n",
    "    if b in a:\n",
    "        print \"Substring is in actual string\"\n",
    "    else:\n",
    "        print \"Substring not found\"\n",
    "string(a,b)\n"
   ]
  },
  {
   "cell_type": "code",
   "execution_count": 3,
   "metadata": {
    "collapsed": false
   },
   "outputs": [
    {
     "name": "stdout",
     "output_type": "stream",
     "text": [
      "enter a number to check even or odd3\n"
     ]
    },
    {
     "name": "stderr",
     "output_type": "stream",
     "text": [
      "INFO:script3:Given number is odd (3)\n"
     ]
    }
   ],
   "source": [
    "# take a number from the user and check whether even or odd\n",
    "import logging\n",
    "logger = logging.getLogger(\"script3\")\n",
    "logging.basicConfig(level=logging.INFO)\n",
    "while True:\n",
    "    try:\n",
    "        usr_input = int(raw_input(\"enter a number to check even or odd\"))\n",
    "        break\n",
    "    except ValueError:\n",
    "        logger.info (\"user input not valid try again with integer number\")\n",
    "if usr_input % 2 == 0:\n",
    "    logger.info(\"Given number is even ({})\".format(usr_input))\n",
    "else:\n",
    "    logger.info(\"Given number is odd ({})\".format(usr_input))\n"
   ]
  },
  {
   "cell_type": "code",
   "execution_count": 8,
   "metadata": {
    "collapsed": false
   },
   "outputs": [
    {
     "name": "stdout",
     "output_type": "stream",
     "text": [
      "enter a number to check prime or not3\n",
      "prime number\n"
     ]
    }
   ],
   "source": [
    "#4. take a number from the user and check whether it is prime?\n",
    "while True:\n",
    "    try:\n",
    "        usr_inp = int(raw_input(\"enter a number to check prime or not\"))\n",
    "        break\n",
    "    except ValueError:\n",
    "        print \"Input must be number,Please re enter correct input\"\n",
    "        continue\n",
    "        \n",
    "if usr_inp in [0,1] and usr_inp%2==0 and usr_inp%3==0:\n",
    "    print \"Not prime number\"\n",
    "    \n",
    "else:\n",
    "    print \"prime number\"\n"
   ]
  },
  {
   "cell_type": "code",
   "execution_count": 12,
   "metadata": {
    "collapsed": false
   },
   "outputs": [
    {
     "name": "stdout",
     "output_type": "stream",
     "text": [
      "Enter input to check given input is digits only or not123hias\n",
      "given input not contains all digits \n"
     ]
    }
   ],
   "source": [
    "#5. take a string from the user and check contains only digits or not?\n",
    "u_i=raw_input(\"Enter input to check given input is digits only or not\")\n",
    "if u_i.isdigit():\n",
    "    print \"given input contains digits only\"\n",
    "else:\n",
    "    print \"given input not contains all digits \"\n",
    "\n"
   ]
  },
  {
   "cell_type": "code",
   "execution_count": 13,
   "metadata": {
    "collapsed": false
   },
   "outputs": [
    {
     "name": "stdout",
     "output_type": "stream",
     "text": [
      "Enter input to check given input is alphabates only or nothasdas\n",
      "Given input contians alphabates only\n"
     ]
    }
   ],
   "source": [
    "# 6. take a string from the user and check contains only  alphabets or not?\n",
    "u_i=raw_input(\"Enter input to check given input is alphabates only or not\")\n",
    "if u_i.isalpha():\n",
    "    print \"Given input contians alphabates only\"\n",
    "else:\n",
    "    print \"Given input not contains all alphabates \"\n",
    "\n"
   ]
  },
  {
   "cell_type": "code",
   "execution_count": 25,
   "metadata": {
    "collapsed": false
   },
   "outputs": [
    {
     "name": "stdout",
     "output_type": "stream",
     "text": [
      "Enter input to check given input is Special chars only or not*(&\n",
      "All are special chars\n"
     ]
    }
   ],
   "source": [
    "#7. take a string from the user and check contains only  special chars or not?\n",
    "u_i=raw_input(\"Enter input to check given input is Special chars only or not\")\n",
    "jk=\"\"\"~ ` ! @ # $ % ^ & * ( ) _ - + = [ ]  { } | \\ : ; \" < > ? / . ,'\"\"\"\n",
    "for i in u_i:\n",
    "    if i in jk: \n",
    "        print \"All are special chars\"\n",
    "        break\n",
    "    else:\n",
    "        print \"Not All are special chars\"\n",
    "        break\n",
    "\n"
   ]
  },
  {
   "cell_type": "code",
   "execution_count": 28,
   "metadata": {
    "collapsed": false
   },
   "outputs": [
    {
     "name": "stdout",
     "output_type": "stream",
     "text": [
      "Enter a string:ulLk\n",
      "string contains capital letters\n"
     ]
    }
   ],
   "source": [
    "#8. take a string from the user and check contains only  capiatl letters or not?\n",
    "\n",
    "u_i=raw_input(\"Enter a string:\")\n",
    "for i in u_i:\n",
    "    if i==u_i.lower():\n",
    "        print \"string does not contains captials letters\"\n",
    "        break\n",
    "    else:\n",
    "        print \"string contains capital letters\"\n",
    "        break\n",
    "\n"
   ]
  },
  {
   "cell_type": "code",
   "execution_count": 29,
   "metadata": {
    "collapsed": false
   },
   "outputs": [
    {
     "name": "stdout",
     "output_type": "stream",
     "text": [
      "Enter a string:uiK\n",
      "string does not contains small letters\n"
     ]
    }
   ],
   "source": [
    "#9. take a string from the user and check contains only  small letters or not?\n",
    "u_i=raw_input(\"Enter a string:\")\n",
    "if u_i.islower():\n",
    "    print \"string contains only small letters\"\n",
    "else:\n",
    "    print \"string does not contains small letters\"\n"
   ]
  },
  {
   "cell_type": "code",
   "execution_count": 30,
   "metadata": {
    "collapsed": false
   },
   "outputs": [
    {
     "name": "stdout",
     "output_type": "stream",
     "text": [
      "1.MAC\n",
      "2.WINDOWS\n",
      "3.LINUX\n",
      "q.to exist\n",
      "Enter a value3\n",
      "Linux is selected\n",
      "1.MAC\n",
      "2.WINDOWS\n",
      "3.LINUX\n",
      "q.to exist\n",
      "Enter a valueq\n",
      "program will be exit\n"
     ]
    }
   ],
   "source": [
    "#10. Show the below menu to the user until and until user select quit and display corresponding os message\n",
    "\n",
    "'''\n",
    "Menu:\n",
    "1. windows\n",
    "2. Linux\n",
    "3. Mac\n",
    "4. quit\n",
    "'''\n",
    "while True:\n",
    "    print \"1.MAC\\n2.WINDOWS\\n3.LINUX\\nq.to exist\"\n",
    "    a=raw_input(\"Enter a value\")\n",
    "    if a==\"1\":\n",
    "        print \"Mac is selected\"\n",
    "    elif a==\"2\":\n",
    "        print \"Windows is selected\"\n",
    "    elif a==\"3\":\n",
    "        print \"Linux is selected\"\n",
    "    elif a==\"q\":\n",
    "        print \"program will be exit\"\n",
    "        break\n",
    "    else:\n",
    "        print \"Selected wrong option,Please select right option\"\n",
    "\n"
   ]
  },
  {
   "cell_type": "code",
   "execution_count": 34,
   "metadata": {
    "collapsed": false
   },
   "outputs": [
    {
     "name": "stdout",
     "output_type": "stream",
     "text": [
      "Enter a string:iss8\n",
      "contains digits\n"
     ]
    }
   ],
   "source": [
    "\"\"\"\n",
    "11.take a string from the user and check contains atleast one digit or not?\n",
    "\"\"\"\n",
    "u_i=raw_input(\"Enter a string:\")\n",
    "check=False\n",
    "for i in u_i:\n",
    "    if i.isdigit():\n",
    "        check=True\n",
    "        break       \n",
    "if check:\n",
    "    print \"contains digits\"\n",
    "else:\n",
    "    print \"not contains digits\"\n"
   ]
  },
  {
   "cell_type": "code",
   "execution_count": 35,
   "metadata": {
    "collapsed": false
   },
   "outputs": [
    {
     "name": "stdout",
     "output_type": "stream",
     "text": [
      "Enter a string:sdasAsd1245\n",
      "contains alphabets\n"
     ]
    }
   ],
   "source": [
    "# 12. take a string from the user and check contains atleast one alphabets or not?\n",
    "usr_inp=raw_input(\"Enter a string:\")\n",
    "check=False\n",
    "for i in usr_inp:\n",
    "    if i.isalpha():\n",
    "        check=True\n",
    "        break\n",
    "if check:\n",
    "    print \"contains alphabets\"\n",
    "else:\n",
    "    print \"not contains alphabets\""
   ]
  },
  {
   "cell_type": "code",
   "execution_count": 43,
   "metadata": {
    "collapsed": false
   },
   "outputs": [
    {
     "name": "stdout",
     "output_type": "stream",
     "text": [
      "Enter a string:asdas3454e5@\n",
      "string contains all special characters\n"
     ]
    }
   ],
   "source": [
    "#13 take a string from the user and check contains atleast one special chars or not?\n",
    "string=raw_input(\"Enter a string:\")\n",
    "char = \"~`!@#$%^&*()_-+={}[]:>;',</?*-+\"\n",
    "check =False\n",
    "for i in string:\n",
    "    if i in char:\n",
    "        check=True\n",
    "        break\n",
    "if check:\n",
    "    print \"string contains all special characters\"\n",
    "else :\n",
    "    print \"String does not contains all speacilas chars\"\n",
    "\n"
   ]
  }
 ],
 "metadata": {
  "kernelspec": {
   "display_name": "Python 2",
   "language": "python",
   "name": "python2"
  },
  "language_info": {
   "codemirror_mode": {
    "name": "ipython",
    "version": 2
   },
   "file_extension": ".py",
   "mimetype": "text/x-python",
   "name": "python",
   "nbconvert_exporter": "python",
   "pygments_lexer": "ipython2",
   "version": "2.7.13"
  }
 },
 "nbformat": 4,
 "nbformat_minor": 2
}
